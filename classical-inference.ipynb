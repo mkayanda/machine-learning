{
 "cells": [
  {
   "cell_type": "code",
   "execution_count": 1,
   "id": "4370c617-e6a6-4486-9add-b8ac53fb7237",
   "metadata": {},
   "outputs": [],
   "source": [
    "import statsmodels.api as sm"
   ]
  },
  {
   "cell_type": "markdown",
   "id": "4b50f14f-340a-4348-96d1-3fe8e1c084a0",
   "metadata": {},
   "source": [
    "suppose that, on a certain website, out of 1,126 visitors, 310 clicked on a certain ad. Let's construct a confidence interval for the population proportion of visitors who clicked on the ad. This will allow us to predict future clicks."
   ]
  },
  {
   "cell_type": "code",
   "execution_count": 2,
   "id": "d3ff057b-ec79-4b18-a98c-b9734a56e852",
   "metadata": {},
   "outputs": [
    {
     "data": {
      "text/plain": [
       "0.2753108348134991"
      ]
     },
     "execution_count": 2,
     "metadata": {},
     "output_type": "execute_result"
    }
   ],
   "source": [
    "310/1126"
   ]
  },
  {
   "cell_type": "markdown",
   "id": "de3f646f-f124-46e0-8612-4711ccd68670",
   "metadata": {},
   "source": [
    "28% of the visitors to the website clicked on the ad on that day. "
   ]
  },
  {
   "cell_type": "code",
   "execution_count": 3,
   "id": "a9622f70-8e5a-4d24-81aa-f98c9b296881",
   "metadata": {},
   "outputs": [
    {
     "data": {
      "text/plain": [
       "(0.24922129423231776, 0.30140037539468045)"
      ]
     },
     "execution_count": 3,
     "metadata": {},
     "output_type": "execute_result"
    }
   ],
   "source": [
    "#construct a confidence interval using proportion_confint() function\n",
    "\n",
    "#We assign the number of successes in the count variable, the number of trials in the nobs variable, and the confidence in the alpha variable\n",
    "\n",
    "from statsmodels.stats.proportion import proportion_confint\n",
    "\n",
    "proportion_confint(count=310,\n",
    "                  nobs=1126,\n",
    "                  alpha=(1 - 0.95))"
   ]
  },
  {
   "cell_type": "markdown",
   "id": "b5cf9f79-0cd5-4927-b9f8-b04e679fc2fc",
   "metadata": {},
   "source": [
    "As you can see here, with 95% confidence, the proportion is between approximately 25% and 30%.\n",
    "\n",
    "you can change the CI to a larger interval if you want. "
   ]
  },
  {
   "cell_type": "code",
   "execution_count": null,
   "id": "07a1de04-1402-4876-9f82-ebcad412df7b",
   "metadata": {},
   "outputs": [],
   "source": []
  }
 ],
 "metadata": {
  "kernelspec": {
   "display_name": "Python 3 (ipykernel)",
   "language": "python",
   "name": "python3"
  },
  "language_info": {
   "codemirror_mode": {
    "name": "ipython",
    "version": 3
   },
   "file_extension": ".py",
   "mimetype": "text/x-python",
   "name": "python",
   "nbconvert_exporter": "python",
   "pygments_lexer": "ipython3",
   "version": "3.8.13"
  }
 },
 "nbformat": 4,
 "nbformat_minor": 5
}
